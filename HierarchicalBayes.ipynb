{
  "nbformat": 4,
  "nbformat_minor": 0,
  "metadata": {
    "colab": {
      "name": "Untitled",
      "provenance": [],
      "collapsed_sections": [],
      "authorship_tag": "ABX9TyPyMz/WDPjJtU/RCEHsNu+q",
      "include_colab_link": true
    },
    "kernelspec": {
      "name": "python3",
      "display_name": "Python 3"
    }
  },
  "cells": [
    {
      "cell_type": "markdown",
      "metadata": {
        "id": "view-in-github",
        "colab_type": "text"
      },
      "source": [
        "<a href=\"https://colab.research.google.com/github/widushak/CLV-models/blob/master/HierarchicalBayes.ipynb\" target=\"_parent\"><img src=\"https://colab.research.google.com/assets/colab-badge.svg\" alt=\"Open In Colab\"/></a>"
      ]
    },
    {
      "cell_type": "code",
      "metadata": {
        "colab": {
          "base_uri": "https://localhost:8080/"
        },
        "id": "YGfuf6EZ-LBS",
        "outputId": "e5de5fae-d0e8-4e28-c5d1-a1d8cb58b8a3"
      },
      "source": [
        "!pip install arviz==0.8.0\r\n",
        "!pip install pymc3>=3.8\r\n",
        "%matplotlib inline\r\n",
        "import pymc3 as pm\r\n",
        "import numpy as np\r\n",
        "import pandas as pd\r\n",
        "import theano\r\n",
        "\r\n",
        "from scipy import stats\r\n",
        "from sklearn.metrics import mean_squared_error\r\n",
        "import math\r\n",
        "\r\n",
        "import matplotlib.pyplot as plt\r\n",
        "import altair as alt\r\n",
        "alt.data_transformers.enable('default', max_rows=None)\r\n",
        "import arviz as az\r\n",
        "\r\n",
        "import warnings\r\n",
        "warnings.filterwarnings('ignore')"
      ],
      "execution_count": 1,
      "outputs": [
        {
          "output_type": "stream",
          "text": [
            "Collecting arviz==0.8.0\n",
            "\u001b[?25l  Downloading https://files.pythonhosted.org/packages/30/d7/fc896081f09c96dfbed79f2500be7fdbc9b2b19f2efe22753ed5d5dff4a2/arviz-0.8.0-py3-none-any.whl (1.5MB)\n",
            "\u001b[K     |████████████████████████████████| 1.5MB 5.7MB/s \n",
            "\u001b[?25hRequirement already satisfied: xarray>=0.11 in /usr/local/lib/python3.6/dist-packages (from arviz==0.8.0) (0.15.1)\n",
            "Collecting netcdf4\n",
            "\u001b[?25l  Downloading https://files.pythonhosted.org/packages/1a/71/a321abeee439caf94850b4f68ecef68d2ad584a5a9566816c051654cff94/netCDF4-1.5.5.1-cp36-cp36m-manylinux2014_x86_64.whl (4.7MB)\n",
            "\u001b[K     |████████████████████████████████| 4.7MB 21.7MB/s \n",
            "\u001b[?25hRequirement already satisfied: pandas>=0.23 in /usr/local/lib/python3.6/dist-packages (from arviz==0.8.0) (1.1.5)\n",
            "Requirement already satisfied: matplotlib>=3.0 in /usr/local/lib/python3.6/dist-packages (from arviz==0.8.0) (3.2.2)\n",
            "Requirement already satisfied: scipy>=0.19 in /usr/local/lib/python3.6/dist-packages (from arviz==0.8.0) (1.4.1)\n",
            "Requirement already satisfied: numpy>=1.12 in /usr/local/lib/python3.6/dist-packages (from arviz==0.8.0) (1.19.4)\n",
            "Requirement already satisfied: packaging in /usr/local/lib/python3.6/dist-packages (from arviz==0.8.0) (20.8)\n",
            "Requirement already satisfied: setuptools>=41.2 in /usr/local/lib/python3.6/dist-packages (from xarray>=0.11->arviz==0.8.0) (51.0.0)\n",
            "Collecting cftime\n",
            "\u001b[?25l  Downloading https://files.pythonhosted.org/packages/66/60/bad8525d2c046eb2964911bc412a85ba240b31c7b43f0c19377233992c6c/cftime-1.3.0-cp36-cp36m-manylinux1_x86_64.whl (295kB)\n",
            "\u001b[K     |████████████████████████████████| 296kB 38.1MB/s \n",
            "\u001b[?25hRequirement already satisfied: pytz>=2017.2 in /usr/local/lib/python3.6/dist-packages (from pandas>=0.23->arviz==0.8.0) (2018.9)\n",
            "Requirement already satisfied: python-dateutil>=2.7.3 in /usr/local/lib/python3.6/dist-packages (from pandas>=0.23->arviz==0.8.0) (2.8.1)\n",
            "Requirement already satisfied: cycler>=0.10 in /usr/local/lib/python3.6/dist-packages (from matplotlib>=3.0->arviz==0.8.0) (0.10.0)\n",
            "Requirement already satisfied: pyparsing!=2.0.4,!=2.1.2,!=2.1.6,>=2.0.1 in /usr/local/lib/python3.6/dist-packages (from matplotlib>=3.0->arviz==0.8.0) (2.4.7)\n",
            "Requirement already satisfied: kiwisolver>=1.0.1 in /usr/local/lib/python3.6/dist-packages (from matplotlib>=3.0->arviz==0.8.0) (1.3.1)\n",
            "Requirement already satisfied: six>=1.5 in /usr/local/lib/python3.6/dist-packages (from python-dateutil>=2.7.3->pandas>=0.23->arviz==0.8.0) (1.15.0)\n",
            "Installing collected packages: cftime, netcdf4, arviz\n",
            "Successfully installed arviz-0.8.0 cftime-1.3.0 netcdf4-1.5.5.1\n"
          ],
          "name": "stdout"
        }
      ]
    },
    {
      "cell_type": "code",
      "metadata": {
        "colab": {
          "base_uri": "https://localhost:8080/"
        },
        "id": "8eQxUH_X-sFT",
        "outputId": "1c367ee8-98e3-4f5f-c25b-6991b42fcb9a"
      },
      "source": [
        "from google.colab import drive\r\n",
        "drive.mount('/content/drive')"
      ],
      "execution_count": 2,
      "outputs": [
        {
          "output_type": "stream",
          "text": [
            "Mounted at /content/drive\n"
          ],
          "name": "stdout"
        }
      ]
    },
    {
      "cell_type": "code",
      "metadata": {
        "id": "EDNZ-9zf-wUm"
      },
      "source": [
        "df1=pd.read_excel('/content/drive/MyDrive/online_retail_kaggle.xlsx',sheet_name='Year 2009-2010')\r\n",
        "df2=pd.read_excel('/content/drive/MyDrive/online_retail_kaggle.xlsx',sheet_name='Year 2010-2011')\r\n",
        "combine=[df1,df2]\r\n",
        "df=pd.concat(combine)"
      ],
      "execution_count": 32,
      "outputs": []
    },
    {
      "cell_type": "code",
      "metadata": {
        "id": "jl-_fnZ4-zUu",
        "colab": {
          "base_uri": "https://localhost:8080/",
          "height": 415
        },
        "outputId": "0786a743-0b71-413e-d39a-d8f66e1ddbcd"
      },
      "source": [
        "df.rename(columns={'Customer ID':'CustomerID'},inplace=True)\r\n",
        "df['InvoiceDate']=pd.to_datetime(df['InvoiceDate']).dt.date\r\n",
        "df['InvoiceDate']=pd.to_datetime(df['InvoiceDate']).dt.date\r\n",
        "df['Invoicemonth']=df['InvoiceDate'].map(lambda date: 100*date.year+date.month)\r\n",
        "#df = df[df['Invoicemonth']>200912]\r\n",
        "df=df[df['Quantity']>0]\r\n",
        "df=df[df['CustomerID'].notnull()==True]\r\n",
        "df['Total_amt']=df['Quantity']*df['Price']\r\n",
        "df"
      ],
      "execution_count": 33,
      "outputs": [
        {
          "output_type": "execute_result",
          "data": {
            "text/html": [
              "<div>\n",
              "<style scoped>\n",
              "    .dataframe tbody tr th:only-of-type {\n",
              "        vertical-align: middle;\n",
              "    }\n",
              "\n",
              "    .dataframe tbody tr th {\n",
              "        vertical-align: top;\n",
              "    }\n",
              "\n",
              "    .dataframe thead th {\n",
              "        text-align: right;\n",
              "    }\n",
              "</style>\n",
              "<table border=\"1\" class=\"dataframe\">\n",
              "  <thead>\n",
              "    <tr style=\"text-align: right;\">\n",
              "      <th></th>\n",
              "      <th>Invoice</th>\n",
              "      <th>StockCode</th>\n",
              "      <th>Description</th>\n",
              "      <th>Quantity</th>\n",
              "      <th>InvoiceDate</th>\n",
              "      <th>Price</th>\n",
              "      <th>CustomerID</th>\n",
              "      <th>Country</th>\n",
              "      <th>Invoicemonth</th>\n",
              "      <th>Total_amt</th>\n",
              "    </tr>\n",
              "  </thead>\n",
              "  <tbody>\n",
              "    <tr>\n",
              "      <th>0</th>\n",
              "      <td>489434</td>\n",
              "      <td>85048</td>\n",
              "      <td>15CM CHRISTMAS GLASS BALL 20 LIGHTS</td>\n",
              "      <td>12</td>\n",
              "      <td>2009-12-01</td>\n",
              "      <td>6.95</td>\n",
              "      <td>13085.0</td>\n",
              "      <td>United Kingdom</td>\n",
              "      <td>200912</td>\n",
              "      <td>83.40</td>\n",
              "    </tr>\n",
              "    <tr>\n",
              "      <th>1</th>\n",
              "      <td>489434</td>\n",
              "      <td>79323P</td>\n",
              "      <td>PINK CHERRY LIGHTS</td>\n",
              "      <td>12</td>\n",
              "      <td>2009-12-01</td>\n",
              "      <td>6.75</td>\n",
              "      <td>13085.0</td>\n",
              "      <td>United Kingdom</td>\n",
              "      <td>200912</td>\n",
              "      <td>81.00</td>\n",
              "    </tr>\n",
              "    <tr>\n",
              "      <th>2</th>\n",
              "      <td>489434</td>\n",
              "      <td>79323W</td>\n",
              "      <td>WHITE CHERRY LIGHTS</td>\n",
              "      <td>12</td>\n",
              "      <td>2009-12-01</td>\n",
              "      <td>6.75</td>\n",
              "      <td>13085.0</td>\n",
              "      <td>United Kingdom</td>\n",
              "      <td>200912</td>\n",
              "      <td>81.00</td>\n",
              "    </tr>\n",
              "    <tr>\n",
              "      <th>3</th>\n",
              "      <td>489434</td>\n",
              "      <td>22041</td>\n",
              "      <td>RECORD FRAME 7\" SINGLE SIZE</td>\n",
              "      <td>48</td>\n",
              "      <td>2009-12-01</td>\n",
              "      <td>2.10</td>\n",
              "      <td>13085.0</td>\n",
              "      <td>United Kingdom</td>\n",
              "      <td>200912</td>\n",
              "      <td>100.80</td>\n",
              "    </tr>\n",
              "    <tr>\n",
              "      <th>4</th>\n",
              "      <td>489434</td>\n",
              "      <td>21232</td>\n",
              "      <td>STRAWBERRY CERAMIC TRINKET BOX</td>\n",
              "      <td>24</td>\n",
              "      <td>2009-12-01</td>\n",
              "      <td>1.25</td>\n",
              "      <td>13085.0</td>\n",
              "      <td>United Kingdom</td>\n",
              "      <td>200912</td>\n",
              "      <td>30.00</td>\n",
              "    </tr>\n",
              "    <tr>\n",
              "      <th>...</th>\n",
              "      <td>...</td>\n",
              "      <td>...</td>\n",
              "      <td>...</td>\n",
              "      <td>...</td>\n",
              "      <td>...</td>\n",
              "      <td>...</td>\n",
              "      <td>...</td>\n",
              "      <td>...</td>\n",
              "      <td>...</td>\n",
              "      <td>...</td>\n",
              "    </tr>\n",
              "    <tr>\n",
              "      <th>541905</th>\n",
              "      <td>581587</td>\n",
              "      <td>22899</td>\n",
              "      <td>CHILDREN'S APRON DOLLY GIRL</td>\n",
              "      <td>6</td>\n",
              "      <td>2011-12-09</td>\n",
              "      <td>2.10</td>\n",
              "      <td>12680.0</td>\n",
              "      <td>France</td>\n",
              "      <td>201112</td>\n",
              "      <td>12.60</td>\n",
              "    </tr>\n",
              "    <tr>\n",
              "      <th>541906</th>\n",
              "      <td>581587</td>\n",
              "      <td>23254</td>\n",
              "      <td>CHILDRENS CUTLERY DOLLY GIRL</td>\n",
              "      <td>4</td>\n",
              "      <td>2011-12-09</td>\n",
              "      <td>4.15</td>\n",
              "      <td>12680.0</td>\n",
              "      <td>France</td>\n",
              "      <td>201112</td>\n",
              "      <td>16.60</td>\n",
              "    </tr>\n",
              "    <tr>\n",
              "      <th>541907</th>\n",
              "      <td>581587</td>\n",
              "      <td>23255</td>\n",
              "      <td>CHILDRENS CUTLERY CIRCUS PARADE</td>\n",
              "      <td>4</td>\n",
              "      <td>2011-12-09</td>\n",
              "      <td>4.15</td>\n",
              "      <td>12680.0</td>\n",
              "      <td>France</td>\n",
              "      <td>201112</td>\n",
              "      <td>16.60</td>\n",
              "    </tr>\n",
              "    <tr>\n",
              "      <th>541908</th>\n",
              "      <td>581587</td>\n",
              "      <td>22138</td>\n",
              "      <td>BAKING SET 9 PIECE RETROSPOT</td>\n",
              "      <td>3</td>\n",
              "      <td>2011-12-09</td>\n",
              "      <td>4.95</td>\n",
              "      <td>12680.0</td>\n",
              "      <td>France</td>\n",
              "      <td>201112</td>\n",
              "      <td>14.85</td>\n",
              "    </tr>\n",
              "    <tr>\n",
              "      <th>541909</th>\n",
              "      <td>581587</td>\n",
              "      <td>POST</td>\n",
              "      <td>POSTAGE</td>\n",
              "      <td>1</td>\n",
              "      <td>2011-12-09</td>\n",
              "      <td>18.00</td>\n",
              "      <td>12680.0</td>\n",
              "      <td>France</td>\n",
              "      <td>201112</td>\n",
              "      <td>18.00</td>\n",
              "    </tr>\n",
              "  </tbody>\n",
              "</table>\n",
              "<p>805620 rows × 10 columns</p>\n",
              "</div>"
            ],
            "text/plain": [
              "       Invoice StockCode  ... Invoicemonth  Total_amt\n",
              "0       489434     85048  ...       200912      83.40\n",
              "1       489434    79323P  ...       200912      81.00\n",
              "2       489434    79323W  ...       200912      81.00\n",
              "3       489434     22041  ...       200912     100.80\n",
              "4       489434     21232  ...       200912      30.00\n",
              "...        ...       ...  ...          ...        ...\n",
              "541905  581587     22899  ...       201112      12.60\n",
              "541906  581587     23254  ...       201112      16.60\n",
              "541907  581587     23255  ...       201112      16.60\n",
              "541908  581587     22138  ...       201112      14.85\n",
              "541909  581587      POST  ...       201112      18.00\n",
              "\n",
              "[805620 rows x 10 columns]"
            ]
          },
          "metadata": {
            "tags": []
          },
          "execution_count": 33
        }
      ]
    },
    {
      "cell_type": "code",
      "metadata": {
        "id": "93E4Lzqp_Dc4",
        "colab": {
          "base_uri": "https://localhost:8080/"
        },
        "outputId": "a10b43da-9a57-4462-eb68-90058e8337e4"
      },
      "source": [
        "!pip install lifetimes"
      ],
      "execution_count": 34,
      "outputs": [
        {
          "output_type": "stream",
          "text": [
            "Requirement already satisfied: lifetimes in /usr/local/lib/python3.6/dist-packages (0.11.3)\n",
            "Requirement already satisfied: autograd>=1.2.0 in /usr/local/lib/python3.6/dist-packages (from lifetimes) (1.3)\n",
            "Requirement already satisfied: numpy>=1.10.0 in /usr/local/lib/python3.6/dist-packages (from lifetimes) (1.19.4)\n",
            "Requirement already satisfied: pandas>=0.24.0 in /usr/local/lib/python3.6/dist-packages (from lifetimes) (1.1.5)\n",
            "Requirement already satisfied: scipy>=1.0.0 in /usr/local/lib/python3.6/dist-packages (from lifetimes) (1.4.1)\n",
            "Requirement already satisfied: dill>=0.2.6 in /usr/local/lib/python3.6/dist-packages (from lifetimes) (0.3.3)\n",
            "Requirement already satisfied: future>=0.15.2 in /usr/local/lib/python3.6/dist-packages (from autograd>=1.2.0->lifetimes) (0.16.0)\n",
            "Requirement already satisfied: pytz>=2017.2 in /usr/local/lib/python3.6/dist-packages (from pandas>=0.24.0->lifetimes) (2018.9)\n",
            "Requirement already satisfied: python-dateutil>=2.7.3 in /usr/local/lib/python3.6/dist-packages (from pandas>=0.24.0->lifetimes) (2.8.1)\n",
            "Requirement already satisfied: six>=1.5 in /usr/local/lib/python3.6/dist-packages (from python-dateutil>=2.7.3->pandas>=0.24.0->lifetimes) (1.15.0)\n"
          ],
          "name": "stdout"
        }
      ]
    },
    {
      "cell_type": "code",
      "metadata": {
        "id": "etqNGNSt_J5F",
        "colab": {
          "base_uri": "https://localhost:8080/"
        },
        "outputId": "c3e3d2c9-1682-487b-ee81-ceea2a3ad089"
      },
      "source": [
        "from lifetimes.utils import calibration_and_holdout_data \r\n",
        "from lifetimes.utils import summary_data_from_transaction_data\r\n",
        "import numpy as np\r\n",
        "#calibration_end='2010-12-31'\r\n",
        "#observation_end = '2011-06-30'\r\n",
        "#rfm = summary_data_from_transaction_data(\r\n",
        "    #df,\r\n",
        "   # 'CustomerID',\r\n",
        "  #  'InvoiceDate',\r\n",
        "   # observation_period_end=pd.to_datetime('2011-06-30'),\r\n",
        "    #freq='W'\r\n",
        "#)\r\n",
        "rfm = calibration_and_holdout_data(\r\n",
        "    df,\r\n",
        "    'CustomerID',\r\n",
        "    'InvoiceDate',\r\n",
        "    calibration_period_end='2011-06-30',\r\n",
        "    observation_period_end='2011-12-09',\r\n",
        "    freq='W'\r\n",
        ")\r\n",
        "\r\n",
        "rfm.shape\r\n",
        "rfm.shape"
      ],
      "execution_count": 35,
      "outputs": [
        {
          "output_type": "execute_result",
          "data": {
            "text/plain": [
              "(5043, 5)"
            ]
          },
          "metadata": {
            "tags": []
          },
          "execution_count": 35
        }
      ]
    },
    {
      "cell_type": "code",
      "metadata": {
        "id": "FLO3BbGHGhWn"
      },
      "source": [
        "from pymc3.math import exp, log\r\n",
        "\r\n",
        "class ParetoNBD(pm.Continuous):\r\n",
        "    \"\"\"\r\n",
        "    Custom distribution class for Pareto/NBD likelihood.\r\n",
        "    \"\"\"\r\n",
        "    \r\n",
        "    def __init__(self, lambda_, mu, *args, **kwargs):\r\n",
        "        super(ParetoNBD, self).__init__(*args, **kwargs)\r\n",
        "        self.lambda_ = lambda_\r\n",
        "        self.mu = mu\r\n",
        "        \r\n",
        "    def logp(self, x, t_x, T):\r\n",
        "        \"\"\"\r\n",
        "        Loglikelihood function for and indvidual customer's purchasing rate \\lambda\r\n",
        "        and lifetime \\mu given their frequency, recency and time since first purchase.\r\n",
        "        \"\"\"\r\n",
        "        \r\n",
        "        log_lambda = log(self.lambda_)\r\n",
        "        log_mu = log(self.mu)\r\n",
        "        mu_plus_lambda = self.lambda_ + self.mu\r\n",
        "        log_mu_plus_lambda = log(mu_plus_lambda)\r\n",
        "        \r\n",
        "        p_1 = x * log_lambda + log_mu - log_mu_plus_lambda - t_x * mu_plus_lambda\r\n",
        "        p_2 = (x + 1) * log_lambda - log_mu_plus_lambda - T * mu_plus_lambda\r\n",
        "        \r\n",
        "        return log(exp(p_1) + exp(p_2))"
      ],
      "execution_count": 36,
      "outputs": []
    },
    {
      "cell_type": "code",
      "metadata": {
        "colab": {
          "base_uri": "https://localhost:8080/"
        },
        "id": "L9VtURA8HkMW",
        "outputId": "22c9d7c8-e9b3-4c81-e69b-b9672a9711c1"
      },
      "source": [
        "\r\n",
        "# Extract data for model following notation from Fader/Hardie\r\n",
        "N = rfm.shape[0] # number of customers\r\n",
        "x = rfm['frequency_cal'].values\r\n",
        "t_x = rfm['recency_cal'].values\r\n",
        "T = rfm['T_cal'].values # length of training period\r\n",
        "\r\n",
        "n_draws = 2000\r\n",
        "\r\n",
        "pnbd_model = pm.Model()\r\n",
        "\r\n",
        "with pnbd_model:\r\n",
        "    \r\n",
        "    # Uninformative priors on model hyperparameters see Polson and Scott \r\n",
        "    # https://projecteuclid.org/download/pdfview_1/euclid.ba/1354024466\r\n",
        "    r = pm.HalfCauchy('r', beta=2)\r\n",
        "    alpha = pm.HalfCauchy('alpha', beta=2)\r\n",
        "    s = pm.HalfCauchy('s', beta=2)\r\n",
        "    beta = pm.HalfCauchy('beta', beta=2)\r\n",
        "    \r\n",
        "    # Gamma prior on purchasing rate parameter lambda\r\n",
        "    lambda_ = pm.Gamma('lambda', alpha=r, beta=alpha, shape=N, testval=np.random.rand(N))\r\n",
        "    # Gamma prior on lifetime parameter mu\r\n",
        "    mu = pm.Gamma('mu', alpha=s, beta=beta, shape=N, testval=np.random.rand(N))\r\n",
        "\r\n",
        "    # Custom distribution for Pareto-NBD likelihood function\r\n",
        "    loglikelihood = ParetoNBD(\"loglikelihood\", mu=mu, lambda_=lambda_, observed={'x': x, 't_x': t_x, 'T': T})\r\n",
        "    \r\n",
        "    # Sample the model\r\n",
        "    trace = pm.sample(n_draws,tune=2000, init=None)\r\n",
        "    #posterior_pred_1 = pm.sample_posterior_predictive(trace)"
      ],
      "execution_count": 61,
      "outputs": [
        {
          "output_type": "stream",
          "text": [
            "Sequential sampling (2 chains in 1 job)\n",
            "NUTS: [mu, lambda, beta, s, alpha, r]\n",
            "100%|██████████| 4000/4000 [22:23<00:00,  2.98it/s]\n",
            "100%|██████████| 4000/4000 [19:56<00:00,  3.34it/s]\n",
            "There were 23 divergences after tuning. Increase `target_accept` or reparameterize.\n",
            "The gelman-rubin statistic is larger than 1.4 for some parameters. The sampler did not converge.\n",
            "The estimated number of effective samples is smaller than 200 for some parameters.\n"
          ],
          "name": "stderr"
        }
      ]
    },
    {
      "cell_type": "code",
      "metadata": {
        "id": "hsDdjnzKRero"
      },
      "source": [
        "tr=pm.backends.tracetab.trace_to_dataframe(trace, chains=None, varnames=None, include_transformed=False)"
      ],
      "execution_count": 62,
      "outputs": []
    },
    {
      "cell_type": "code",
      "metadata": {
        "colab": {
          "base_uri": "https://localhost:8080/",
          "height": 435
        },
        "id": "bc_2n5hxVCtJ",
        "outputId": "cf9b705b-8d82-4728-b083-ffb5185c3dd3"
      },
      "source": [
        "tr.dropna()"
      ],
      "execution_count": 63,
      "outputs": [
        {
          "output_type": "execute_result",
          "data": {
            "text/html": [
              "<div>\n",
              "<style scoped>\n",
              "    .dataframe tbody tr th:only-of-type {\n",
              "        vertical-align: middle;\n",
              "    }\n",
              "\n",
              "    .dataframe tbody tr th {\n",
              "        vertical-align: top;\n",
              "    }\n",
              "\n",
              "    .dataframe thead th {\n",
              "        text-align: right;\n",
              "    }\n",
              "</style>\n",
              "<table border=\"1\" class=\"dataframe\">\n",
              "  <thead>\n",
              "    <tr style=\"text-align: right;\">\n",
              "      <th></th>\n",
              "      <th>r</th>\n",
              "      <th>alpha</th>\n",
              "      <th>s</th>\n",
              "      <th>beta</th>\n",
              "      <th>lambda__0</th>\n",
              "      <th>lambda__1</th>\n",
              "      <th>lambda__2</th>\n",
              "      <th>lambda__3</th>\n",
              "      <th>lambda__4</th>\n",
              "      <th>lambda__5</th>\n",
              "      <th>lambda__6</th>\n",
              "      <th>lambda__7</th>\n",
              "      <th>lambda__8</th>\n",
              "      <th>lambda__9</th>\n",
              "      <th>lambda__10</th>\n",
              "      <th>lambda__11</th>\n",
              "      <th>lambda__12</th>\n",
              "      <th>lambda__13</th>\n",
              "      <th>lambda__14</th>\n",
              "      <th>lambda__15</th>\n",
              "      <th>lambda__16</th>\n",
              "      <th>lambda__17</th>\n",
              "      <th>lambda__18</th>\n",
              "      <th>lambda__19</th>\n",
              "      <th>lambda__20</th>\n",
              "      <th>lambda__21</th>\n",
              "      <th>lambda__22</th>\n",
              "      <th>lambda__23</th>\n",
              "      <th>lambda__24</th>\n",
              "      <th>lambda__25</th>\n",
              "      <th>lambda__26</th>\n",
              "      <th>lambda__27</th>\n",
              "      <th>lambda__28</th>\n",
              "      <th>lambda__29</th>\n",
              "      <th>lambda__30</th>\n",
              "      <th>lambda__31</th>\n",
              "      <th>lambda__32</th>\n",
              "      <th>lambda__33</th>\n",
              "      <th>lambda__34</th>\n",
              "      <th>lambda__35</th>\n",
              "      <th>...</th>\n",
              "      <th>mu__5003</th>\n",
              "      <th>mu__5004</th>\n",
              "      <th>mu__5005</th>\n",
              "      <th>mu__5006</th>\n",
              "      <th>mu__5007</th>\n",
              "      <th>mu__5008</th>\n",
              "      <th>mu__5009</th>\n",
              "      <th>mu__5010</th>\n",
              "      <th>mu__5011</th>\n",
              "      <th>mu__5012</th>\n",
              "      <th>mu__5013</th>\n",
              "      <th>mu__5014</th>\n",
              "      <th>mu__5015</th>\n",
              "      <th>mu__5016</th>\n",
              "      <th>mu__5017</th>\n",
              "      <th>mu__5018</th>\n",
              "      <th>mu__5019</th>\n",
              "      <th>mu__5020</th>\n",
              "      <th>mu__5021</th>\n",
              "      <th>mu__5022</th>\n",
              "      <th>mu__5023</th>\n",
              "      <th>mu__5024</th>\n",
              "      <th>mu__5025</th>\n",
              "      <th>mu__5026</th>\n",
              "      <th>mu__5027</th>\n",
              "      <th>mu__5028</th>\n",
              "      <th>mu__5029</th>\n",
              "      <th>mu__5030</th>\n",
              "      <th>mu__5031</th>\n",
              "      <th>mu__5032</th>\n",
              "      <th>mu__5033</th>\n",
              "      <th>mu__5034</th>\n",
              "      <th>mu__5035</th>\n",
              "      <th>mu__5036</th>\n",
              "      <th>mu__5037</th>\n",
              "      <th>mu__5038</th>\n",
              "      <th>mu__5039</th>\n",
              "      <th>mu__5040</th>\n",
              "      <th>mu__5041</th>\n",
              "      <th>mu__5042</th>\n",
              "    </tr>\n",
              "  </thead>\n",
              "  <tbody>\n",
              "    <tr>\n",
              "      <th>0</th>\n",
              "      <td>0.822950</td>\n",
              "      <td>12.649971</td>\n",
              "      <td>1.595685</td>\n",
              "      <td>572.734817</td>\n",
              "      <td>0.040050</td>\n",
              "      <td>0.080673</td>\n",
              "      <td>0.084531</td>\n",
              "      <td>0.029786</td>\n",
              "      <td>0.020945</td>\n",
              "      <td>0.035019</td>\n",
              "      <td>0.128881</td>\n",
              "      <td>0.051602</td>\n",
              "      <td>0.047905</td>\n",
              "      <td>0.073675</td>\n",
              "      <td>0.248279</td>\n",
              "      <td>0.014171</td>\n",
              "      <td>0.018913</td>\n",
              "      <td>0.129649</td>\n",
              "      <td>0.016480</td>\n",
              "      <td>0.071342</td>\n",
              "      <td>0.020775</td>\n",
              "      <td>0.054130</td>\n",
              "      <td>0.046938</td>\n",
              "      <td>0.004652</td>\n",
              "      <td>0.000488</td>\n",
              "      <td>0.020413</td>\n",
              "      <td>0.021238</td>\n",
              "      <td>0.013524</td>\n",
              "      <td>0.096727</td>\n",
              "      <td>0.008898</td>\n",
              "      <td>0.043399</td>\n",
              "      <td>0.044594</td>\n",
              "      <td>0.035982</td>\n",
              "      <td>0.019190</td>\n",
              "      <td>0.024619</td>\n",
              "      <td>0.085910</td>\n",
              "      <td>0.137232</td>\n",
              "      <td>0.037818</td>\n",
              "      <td>0.012340</td>\n",
              "      <td>0.003107</td>\n",
              "      <td>...</td>\n",
              "      <td>0.001560</td>\n",
              "      <td>0.001532</td>\n",
              "      <td>0.002238</td>\n",
              "      <td>0.005640</td>\n",
              "      <td>0.002962</td>\n",
              "      <td>0.002924</td>\n",
              "      <td>0.003659</td>\n",
              "      <td>0.000808</td>\n",
              "      <td>0.001989</td>\n",
              "      <td>0.000836</td>\n",
              "      <td>0.008600</td>\n",
              "      <td>0.000146</td>\n",
              "      <td>0.000159</td>\n",
              "      <td>0.005472</td>\n",
              "      <td>0.003667</td>\n",
              "      <td>0.002790</td>\n",
              "      <td>0.001663</td>\n",
              "      <td>0.002791</td>\n",
              "      <td>0.004590</td>\n",
              "      <td>0.001733</td>\n",
              "      <td>0.001766</td>\n",
              "      <td>0.004915</td>\n",
              "      <td>0.002182</td>\n",
              "      <td>0.000131</td>\n",
              "      <td>0.001403</td>\n",
              "      <td>0.001961</td>\n",
              "      <td>0.005636</td>\n",
              "      <td>0.002896</td>\n",
              "      <td>0.002719</td>\n",
              "      <td>0.002157</td>\n",
              "      <td>0.000587</td>\n",
              "      <td>0.000658</td>\n",
              "      <td>0.000312</td>\n",
              "      <td>0.000836</td>\n",
              "      <td>0.003750</td>\n",
              "      <td>0.003427</td>\n",
              "      <td>0.007119</td>\n",
              "      <td>0.001295</td>\n",
              "      <td>0.003361</td>\n",
              "      <td>0.003166</td>\n",
              "    </tr>\n",
              "    <tr>\n",
              "      <th>1</th>\n",
              "      <td>0.815700</td>\n",
              "      <td>12.806992</td>\n",
              "      <td>1.537821</td>\n",
              "      <td>528.423869</td>\n",
              "      <td>0.044150</td>\n",
              "      <td>0.034121</td>\n",
              "      <td>0.079860</td>\n",
              "      <td>0.019643</td>\n",
              "      <td>0.015522</td>\n",
              "      <td>0.013184</td>\n",
              "      <td>0.100232</td>\n",
              "      <td>0.031806</td>\n",
              "      <td>0.009371</td>\n",
              "      <td>0.009642</td>\n",
              "      <td>0.044110</td>\n",
              "      <td>0.031850</td>\n",
              "      <td>0.070381</td>\n",
              "      <td>0.075355</td>\n",
              "      <td>0.023455</td>\n",
              "      <td>0.038970</td>\n",
              "      <td>0.036826</td>\n",
              "      <td>0.001117</td>\n",
              "      <td>0.006016</td>\n",
              "      <td>0.031458</td>\n",
              "      <td>0.000297</td>\n",
              "      <td>0.064868</td>\n",
              "      <td>0.025870</td>\n",
              "      <td>0.024300</td>\n",
              "      <td>0.017647</td>\n",
              "      <td>0.076239</td>\n",
              "      <td>0.007721</td>\n",
              "      <td>0.049906</td>\n",
              "      <td>0.026837</td>\n",
              "      <td>0.007455</td>\n",
              "      <td>0.028524</td>\n",
              "      <td>0.046640</td>\n",
              "      <td>0.063950</td>\n",
              "      <td>0.002946</td>\n",
              "      <td>0.128869</td>\n",
              "      <td>0.001350</td>\n",
              "      <td>...</td>\n",
              "      <td>0.004755</td>\n",
              "      <td>0.001455</td>\n",
              "      <td>0.002422</td>\n",
              "      <td>0.000849</td>\n",
              "      <td>0.002217</td>\n",
              "      <td>0.000980</td>\n",
              "      <td>0.004239</td>\n",
              "      <td>0.002169</td>\n",
              "      <td>0.004065</td>\n",
              "      <td>0.003227</td>\n",
              "      <td>0.001198</td>\n",
              "      <td>0.001927</td>\n",
              "      <td>0.010813</td>\n",
              "      <td>0.001358</td>\n",
              "      <td>0.003759</td>\n",
              "      <td>0.003346</td>\n",
              "      <td>0.000606</td>\n",
              "      <td>0.002864</td>\n",
              "      <td>0.001952</td>\n",
              "      <td>0.001505</td>\n",
              "      <td>0.005722</td>\n",
              "      <td>0.000598</td>\n",
              "      <td>0.002152</td>\n",
              "      <td>0.000096</td>\n",
              "      <td>0.004766</td>\n",
              "      <td>0.006838</td>\n",
              "      <td>0.001381</td>\n",
              "      <td>0.001248</td>\n",
              "      <td>0.002231</td>\n",
              "      <td>0.008190</td>\n",
              "      <td>0.004430</td>\n",
              "      <td>0.000855</td>\n",
              "      <td>0.013928</td>\n",
              "      <td>0.001482</td>\n",
              "      <td>0.003005</td>\n",
              "      <td>0.001562</td>\n",
              "      <td>0.002766</td>\n",
              "      <td>0.003792</td>\n",
              "      <td>0.003816</td>\n",
              "      <td>0.002581</td>\n",
              "    </tr>\n",
              "    <tr>\n",
              "      <th>2</th>\n",
              "      <td>0.744634</td>\n",
              "      <td>11.314048</td>\n",
              "      <td>1.538236</td>\n",
              "      <td>496.070390</td>\n",
              "      <td>0.093855</td>\n",
              "      <td>0.082651</td>\n",
              "      <td>0.031269</td>\n",
              "      <td>0.065278</td>\n",
              "      <td>0.006226</td>\n",
              "      <td>0.023088</td>\n",
              "      <td>0.226391</td>\n",
              "      <td>0.008589</td>\n",
              "      <td>0.018537</td>\n",
              "      <td>0.052712</td>\n",
              "      <td>0.166329</td>\n",
              "      <td>0.005874</td>\n",
              "      <td>0.010991</td>\n",
              "      <td>0.086203</td>\n",
              "      <td>0.062712</td>\n",
              "      <td>0.023724</td>\n",
              "      <td>0.028744</td>\n",
              "      <td>0.000117</td>\n",
              "      <td>0.007566</td>\n",
              "      <td>0.011327</td>\n",
              "      <td>0.025470</td>\n",
              "      <td>0.014794</td>\n",
              "      <td>0.056249</td>\n",
              "      <td>0.023621</td>\n",
              "      <td>0.011811</td>\n",
              "      <td>0.006016</td>\n",
              "      <td>0.040657</td>\n",
              "      <td>0.041154</td>\n",
              "      <td>0.080234</td>\n",
              "      <td>0.024092</td>\n",
              "      <td>0.054676</td>\n",
              "      <td>0.065723</td>\n",
              "      <td>0.107600</td>\n",
              "      <td>0.039804</td>\n",
              "      <td>0.008649</td>\n",
              "      <td>0.007948</td>\n",
              "      <td>...</td>\n",
              "      <td>0.001774</td>\n",
              "      <td>0.005445</td>\n",
              "      <td>0.001443</td>\n",
              "      <td>0.005631</td>\n",
              "      <td>0.003532</td>\n",
              "      <td>0.004947</td>\n",
              "      <td>0.001794</td>\n",
              "      <td>0.003124</td>\n",
              "      <td>0.001065</td>\n",
              "      <td>0.003783</td>\n",
              "      <td>0.004387</td>\n",
              "      <td>0.003669</td>\n",
              "      <td>0.000447</td>\n",
              "      <td>0.002052</td>\n",
              "      <td>0.003528</td>\n",
              "      <td>0.000773</td>\n",
              "      <td>0.006440</td>\n",
              "      <td>0.001556</td>\n",
              "      <td>0.003054</td>\n",
              "      <td>0.001690</td>\n",
              "      <td>0.001983</td>\n",
              "      <td>0.009690</td>\n",
              "      <td>0.008164</td>\n",
              "      <td>0.015276</td>\n",
              "      <td>0.002661</td>\n",
              "      <td>0.000799</td>\n",
              "      <td>0.001441</td>\n",
              "      <td>0.000951</td>\n",
              "      <td>0.003589</td>\n",
              "      <td>0.000406</td>\n",
              "      <td>0.001999</td>\n",
              "      <td>0.008944</td>\n",
              "      <td>0.000120</td>\n",
              "      <td>0.001422</td>\n",
              "      <td>0.000929</td>\n",
              "      <td>0.000894</td>\n",
              "      <td>0.001702</td>\n",
              "      <td>0.002820</td>\n",
              "      <td>0.001923</td>\n",
              "      <td>0.002588</td>\n",
              "    </tr>\n",
              "    <tr>\n",
              "      <th>3</th>\n",
              "      <td>0.794581</td>\n",
              "      <td>12.447531</td>\n",
              "      <td>1.593789</td>\n",
              "      <td>519.701714</td>\n",
              "      <td>0.086032</td>\n",
              "      <td>0.099503</td>\n",
              "      <td>0.115741</td>\n",
              "      <td>0.031100</td>\n",
              "      <td>0.072655</td>\n",
              "      <td>0.026434</td>\n",
              "      <td>0.083625</td>\n",
              "      <td>0.008320</td>\n",
              "      <td>0.079095</td>\n",
              "      <td>0.021839</td>\n",
              "      <td>0.095901</td>\n",
              "      <td>0.007242</td>\n",
              "      <td>0.016056</td>\n",
              "      <td>0.135730</td>\n",
              "      <td>0.054905</td>\n",
              "      <td>0.013386</td>\n",
              "      <td>0.061638</td>\n",
              "      <td>0.017563</td>\n",
              "      <td>0.077365</td>\n",
              "      <td>0.006100</td>\n",
              "      <td>0.002264</td>\n",
              "      <td>0.001734</td>\n",
              "      <td>0.030070</td>\n",
              "      <td>0.020397</td>\n",
              "      <td>0.125690</td>\n",
              "      <td>0.029955</td>\n",
              "      <td>0.035835</td>\n",
              "      <td>0.041129</td>\n",
              "      <td>0.077374</td>\n",
              "      <td>0.004587</td>\n",
              "      <td>0.029671</td>\n",
              "      <td>0.068596</td>\n",
              "      <td>0.274717</td>\n",
              "      <td>0.005207</td>\n",
              "      <td>0.020705</td>\n",
              "      <td>0.044148</td>\n",
              "      <td>...</td>\n",
              "      <td>0.001731</td>\n",
              "      <td>0.001775</td>\n",
              "      <td>0.008577</td>\n",
              "      <td>0.004324</td>\n",
              "      <td>0.006463</td>\n",
              "      <td>0.003088</td>\n",
              "      <td>0.005067</td>\n",
              "      <td>0.007269</td>\n",
              "      <td>0.000426</td>\n",
              "      <td>0.005098</td>\n",
              "      <td>0.003029</td>\n",
              "      <td>0.004765</td>\n",
              "      <td>0.000393</td>\n",
              "      <td>0.006260</td>\n",
              "      <td>0.002048</td>\n",
              "      <td>0.004067</td>\n",
              "      <td>0.001526</td>\n",
              "      <td>0.004536</td>\n",
              "      <td>0.002354</td>\n",
              "      <td>0.000949</td>\n",
              "      <td>0.002149</td>\n",
              "      <td>0.001999</td>\n",
              "      <td>0.002762</td>\n",
              "      <td>0.001235</td>\n",
              "      <td>0.000393</td>\n",
              "      <td>0.002034</td>\n",
              "      <td>0.002488</td>\n",
              "      <td>0.001771</td>\n",
              "      <td>0.000559</td>\n",
              "      <td>0.000589</td>\n",
              "      <td>0.001380</td>\n",
              "      <td>0.003026</td>\n",
              "      <td>0.001972</td>\n",
              "      <td>0.004766</td>\n",
              "      <td>0.002827</td>\n",
              "      <td>0.001023</td>\n",
              "      <td>0.002261</td>\n",
              "      <td>0.001708</td>\n",
              "      <td>0.000701</td>\n",
              "      <td>0.002171</td>\n",
              "    </tr>\n",
              "    <tr>\n",
              "      <th>4</th>\n",
              "      <td>0.792365</td>\n",
              "      <td>12.370614</td>\n",
              "      <td>1.564278</td>\n",
              "      <td>523.162160</td>\n",
              "      <td>0.068407</td>\n",
              "      <td>0.035703</td>\n",
              "      <td>0.051245</td>\n",
              "      <td>0.030406</td>\n",
              "      <td>0.001678</td>\n",
              "      <td>0.015365</td>\n",
              "      <td>0.132297</td>\n",
              "      <td>0.101550</td>\n",
              "      <td>0.019815</td>\n",
              "      <td>0.020317</td>\n",
              "      <td>0.099288</td>\n",
              "      <td>0.004049</td>\n",
              "      <td>0.020443</td>\n",
              "      <td>0.054090</td>\n",
              "      <td>0.087904</td>\n",
              "      <td>0.096842</td>\n",
              "      <td>0.010401</td>\n",
              "      <td>0.013284</td>\n",
              "      <td>0.012344</td>\n",
              "      <td>0.004469</td>\n",
              "      <td>0.044775</td>\n",
              "      <td>0.220818</td>\n",
              "      <td>0.069666</td>\n",
              "      <td>0.023394</td>\n",
              "      <td>0.015612</td>\n",
              "      <td>0.032362</td>\n",
              "      <td>0.017943</td>\n",
              "      <td>0.041603</td>\n",
              "      <td>0.016508</td>\n",
              "      <td>0.029868</td>\n",
              "      <td>0.036962</td>\n",
              "      <td>0.048771</td>\n",
              "      <td>0.033888</td>\n",
              "      <td>0.018592</td>\n",
              "      <td>0.053437</td>\n",
              "      <td>0.010861</td>\n",
              "      <td>...</td>\n",
              "      <td>0.004239</td>\n",
              "      <td>0.003641</td>\n",
              "      <td>0.000384</td>\n",
              "      <td>0.001358</td>\n",
              "      <td>0.001058</td>\n",
              "      <td>0.001937</td>\n",
              "      <td>0.001755</td>\n",
              "      <td>0.001489</td>\n",
              "      <td>0.004593</td>\n",
              "      <td>0.001144</td>\n",
              "      <td>0.000592</td>\n",
              "      <td>0.001645</td>\n",
              "      <td>0.008713</td>\n",
              "      <td>0.000791</td>\n",
              "      <td>0.007388</td>\n",
              "      <td>0.001639</td>\n",
              "      <td>0.002742</td>\n",
              "      <td>0.001687</td>\n",
              "      <td>0.003039</td>\n",
              "      <td>0.002692</td>\n",
              "      <td>0.004676</td>\n",
              "      <td>0.004403</td>\n",
              "      <td>0.003184</td>\n",
              "      <td>0.003405</td>\n",
              "      <td>0.002184</td>\n",
              "      <td>0.004282</td>\n",
              "      <td>0.000901</td>\n",
              "      <td>0.004320</td>\n",
              "      <td>0.007610</td>\n",
              "      <td>0.005826</td>\n",
              "      <td>0.004174</td>\n",
              "      <td>0.003158</td>\n",
              "      <td>0.002914</td>\n",
              "      <td>0.001660</td>\n",
              "      <td>0.002180</td>\n",
              "      <td>0.005314</td>\n",
              "      <td>0.003608</td>\n",
              "      <td>0.007115</td>\n",
              "      <td>0.005123</td>\n",
              "      <td>0.002689</td>\n",
              "    </tr>\n",
              "    <tr>\n",
              "      <th>...</th>\n",
              "      <td>...</td>\n",
              "      <td>...</td>\n",
              "      <td>...</td>\n",
              "      <td>...</td>\n",
              "      <td>...</td>\n",
              "      <td>...</td>\n",
              "      <td>...</td>\n",
              "      <td>...</td>\n",
              "      <td>...</td>\n",
              "      <td>...</td>\n",
              "      <td>...</td>\n",
              "      <td>...</td>\n",
              "      <td>...</td>\n",
              "      <td>...</td>\n",
              "      <td>...</td>\n",
              "      <td>...</td>\n",
              "      <td>...</td>\n",
              "      <td>...</td>\n",
              "      <td>...</td>\n",
              "      <td>...</td>\n",
              "      <td>...</td>\n",
              "      <td>...</td>\n",
              "      <td>...</td>\n",
              "      <td>...</td>\n",
              "      <td>...</td>\n",
              "      <td>...</td>\n",
              "      <td>...</td>\n",
              "      <td>...</td>\n",
              "      <td>...</td>\n",
              "      <td>...</td>\n",
              "      <td>...</td>\n",
              "      <td>...</td>\n",
              "      <td>...</td>\n",
              "      <td>...</td>\n",
              "      <td>...</td>\n",
              "      <td>...</td>\n",
              "      <td>...</td>\n",
              "      <td>...</td>\n",
              "      <td>...</td>\n",
              "      <td>...</td>\n",
              "      <td>...</td>\n",
              "      <td>...</td>\n",
              "      <td>...</td>\n",
              "      <td>...</td>\n",
              "      <td>...</td>\n",
              "      <td>...</td>\n",
              "      <td>...</td>\n",
              "      <td>...</td>\n",
              "      <td>...</td>\n",
              "      <td>...</td>\n",
              "      <td>...</td>\n",
              "      <td>...</td>\n",
              "      <td>...</td>\n",
              "      <td>...</td>\n",
              "      <td>...</td>\n",
              "      <td>...</td>\n",
              "      <td>...</td>\n",
              "      <td>...</td>\n",
              "      <td>...</td>\n",
              "      <td>...</td>\n",
              "      <td>...</td>\n",
              "      <td>...</td>\n",
              "      <td>...</td>\n",
              "      <td>...</td>\n",
              "      <td>...</td>\n",
              "      <td>...</td>\n",
              "      <td>...</td>\n",
              "      <td>...</td>\n",
              "      <td>...</td>\n",
              "      <td>...</td>\n",
              "      <td>...</td>\n",
              "      <td>...</td>\n",
              "      <td>...</td>\n",
              "      <td>...</td>\n",
              "      <td>...</td>\n",
              "      <td>...</td>\n",
              "      <td>...</td>\n",
              "      <td>...</td>\n",
              "      <td>...</td>\n",
              "      <td>...</td>\n",
              "      <td>...</td>\n",
              "    </tr>\n",
              "    <tr>\n",
              "      <th>3995</th>\n",
              "      <td>0.815740</td>\n",
              "      <td>12.541092</td>\n",
              "      <td>1.078460</td>\n",
              "      <td>455.865692</td>\n",
              "      <td>0.076586</td>\n",
              "      <td>0.125786</td>\n",
              "      <td>0.061548</td>\n",
              "      <td>0.024501</td>\n",
              "      <td>0.095396</td>\n",
              "      <td>0.019556</td>\n",
              "      <td>0.168077</td>\n",
              "      <td>0.007593</td>\n",
              "      <td>0.003432</td>\n",
              "      <td>0.058853</td>\n",
              "      <td>0.158791</td>\n",
              "      <td>0.006682</td>\n",
              "      <td>0.055299</td>\n",
              "      <td>0.053876</td>\n",
              "      <td>0.068739</td>\n",
              "      <td>0.048727</td>\n",
              "      <td>0.044435</td>\n",
              "      <td>0.005578</td>\n",
              "      <td>0.000066</td>\n",
              "      <td>0.004275</td>\n",
              "      <td>0.057220</td>\n",
              "      <td>0.012136</td>\n",
              "      <td>0.037250</td>\n",
              "      <td>0.003679</td>\n",
              "      <td>0.035164</td>\n",
              "      <td>0.021178</td>\n",
              "      <td>0.038074</td>\n",
              "      <td>0.038200</td>\n",
              "      <td>0.037026</td>\n",
              "      <td>0.027145</td>\n",
              "      <td>0.031408</td>\n",
              "      <td>0.066835</td>\n",
              "      <td>0.055100</td>\n",
              "      <td>0.014443</td>\n",
              "      <td>0.065724</td>\n",
              "      <td>0.003480</td>\n",
              "      <td>...</td>\n",
              "      <td>0.005271</td>\n",
              "      <td>0.002482</td>\n",
              "      <td>0.000008</td>\n",
              "      <td>0.005648</td>\n",
              "      <td>0.003312</td>\n",
              "      <td>0.003010</td>\n",
              "      <td>0.001025</td>\n",
              "      <td>0.001936</td>\n",
              "      <td>0.000564</td>\n",
              "      <td>0.001522</td>\n",
              "      <td>0.000563</td>\n",
              "      <td>0.000314</td>\n",
              "      <td>0.002194</td>\n",
              "      <td>0.003268</td>\n",
              "      <td>0.005726</td>\n",
              "      <td>0.003372</td>\n",
              "      <td>0.001678</td>\n",
              "      <td>0.002452</td>\n",
              "      <td>0.002823</td>\n",
              "      <td>0.004494</td>\n",
              "      <td>0.000530</td>\n",
              "      <td>0.003367</td>\n",
              "      <td>0.000238</td>\n",
              "      <td>0.000142</td>\n",
              "      <td>0.006548</td>\n",
              "      <td>0.000734</td>\n",
              "      <td>0.000785</td>\n",
              "      <td>0.000023</td>\n",
              "      <td>0.001836</td>\n",
              "      <td>0.009519</td>\n",
              "      <td>0.004686</td>\n",
              "      <td>0.000173</td>\n",
              "      <td>0.001769</td>\n",
              "      <td>0.001533</td>\n",
              "      <td>0.002677</td>\n",
              "      <td>0.000217</td>\n",
              "      <td>0.001983</td>\n",
              "      <td>0.001417</td>\n",
              "      <td>0.005633</td>\n",
              "      <td>0.005410</td>\n",
              "    </tr>\n",
              "    <tr>\n",
              "      <th>3996</th>\n",
              "      <td>0.784416</td>\n",
              "      <td>12.350009</td>\n",
              "      <td>1.076493</td>\n",
              "      <td>455.520886</td>\n",
              "      <td>0.084378</td>\n",
              "      <td>0.110826</td>\n",
              "      <td>0.061054</td>\n",
              "      <td>0.058144</td>\n",
              "      <td>0.131506</td>\n",
              "      <td>0.043777</td>\n",
              "      <td>0.167119</td>\n",
              "      <td>0.006222</td>\n",
              "      <td>0.011237</td>\n",
              "      <td>0.055872</td>\n",
              "      <td>0.083583</td>\n",
              "      <td>0.009706</td>\n",
              "      <td>0.055835</td>\n",
              "      <td>0.110818</td>\n",
              "      <td>0.070447</td>\n",
              "      <td>0.014599</td>\n",
              "      <td>0.040702</td>\n",
              "      <td>0.009504</td>\n",
              "      <td>0.001019</td>\n",
              "      <td>0.007846</td>\n",
              "      <td>0.047059</td>\n",
              "      <td>0.081040</td>\n",
              "      <td>0.055435</td>\n",
              "      <td>0.011491</td>\n",
              "      <td>0.031986</td>\n",
              "      <td>0.029630</td>\n",
              "      <td>0.042599</td>\n",
              "      <td>0.055371</td>\n",
              "      <td>0.027080</td>\n",
              "      <td>0.032796</td>\n",
              "      <td>0.041300</td>\n",
              "      <td>0.021398</td>\n",
              "      <td>0.033490</td>\n",
              "      <td>0.016940</td>\n",
              "      <td>0.074443</td>\n",
              "      <td>0.004216</td>\n",
              "      <td>...</td>\n",
              "      <td>0.000402</td>\n",
              "      <td>0.000644</td>\n",
              "      <td>0.002481</td>\n",
              "      <td>0.000471</td>\n",
              "      <td>0.000366</td>\n",
              "      <td>0.002008</td>\n",
              "      <td>0.004253</td>\n",
              "      <td>0.003805</td>\n",
              "      <td>0.002485</td>\n",
              "      <td>0.001154</td>\n",
              "      <td>0.005707</td>\n",
              "      <td>0.002289</td>\n",
              "      <td>0.001514</td>\n",
              "      <td>0.001660</td>\n",
              "      <td>0.003244</td>\n",
              "      <td>0.000072</td>\n",
              "      <td>0.001181</td>\n",
              "      <td>0.002706</td>\n",
              "      <td>0.001754</td>\n",
              "      <td>0.001339</td>\n",
              "      <td>0.002302</td>\n",
              "      <td>0.001522</td>\n",
              "      <td>0.004613</td>\n",
              "      <td>0.002945</td>\n",
              "      <td>0.000564</td>\n",
              "      <td>0.000330</td>\n",
              "      <td>0.000383</td>\n",
              "      <td>0.004089</td>\n",
              "      <td>0.003380</td>\n",
              "      <td>0.000094</td>\n",
              "      <td>0.000326</td>\n",
              "      <td>0.002560</td>\n",
              "      <td>0.004373</td>\n",
              "      <td>0.001008</td>\n",
              "      <td>0.001709</td>\n",
              "      <td>0.000102</td>\n",
              "      <td>0.002561</td>\n",
              "      <td>0.000141</td>\n",
              "      <td>0.000631</td>\n",
              "      <td>0.000543</td>\n",
              "    </tr>\n",
              "    <tr>\n",
              "      <th>3997</th>\n",
              "      <td>0.734939</td>\n",
              "      <td>11.329081</td>\n",
              "      <td>1.064926</td>\n",
              "      <td>458.772532</td>\n",
              "      <td>0.078719</td>\n",
              "      <td>0.050238</td>\n",
              "      <td>0.079463</td>\n",
              "      <td>0.021362</td>\n",
              "      <td>0.000986</td>\n",
              "      <td>0.010848</td>\n",
              "      <td>0.128768</td>\n",
              "      <td>0.062428</td>\n",
              "      <td>0.080049</td>\n",
              "      <td>0.003621</td>\n",
              "      <td>0.076458</td>\n",
              "      <td>0.004480</td>\n",
              "      <td>0.008654</td>\n",
              "      <td>0.053297</td>\n",
              "      <td>0.037938</td>\n",
              "      <td>0.025420</td>\n",
              "      <td>0.027445</td>\n",
              "      <td>0.052708</td>\n",
              "      <td>0.014993</td>\n",
              "      <td>0.010679</td>\n",
              "      <td>0.000388</td>\n",
              "      <td>0.002631</td>\n",
              "      <td>0.040258</td>\n",
              "      <td>0.014574</td>\n",
              "      <td>0.093087</td>\n",
              "      <td>0.036859</td>\n",
              "      <td>0.009817</td>\n",
              "      <td>0.025341</td>\n",
              "      <td>0.031497</td>\n",
              "      <td>0.002077</td>\n",
              "      <td>0.048499</td>\n",
              "      <td>0.039469</td>\n",
              "      <td>0.190944</td>\n",
              "      <td>0.018118</td>\n",
              "      <td>0.024656</td>\n",
              "      <td>0.037600</td>\n",
              "      <td>...</td>\n",
              "      <td>0.000277</td>\n",
              "      <td>0.014359</td>\n",
              "      <td>0.000481</td>\n",
              "      <td>0.000332</td>\n",
              "      <td>0.000563</td>\n",
              "      <td>0.003714</td>\n",
              "      <td>0.001904</td>\n",
              "      <td>0.004019</td>\n",
              "      <td>0.001222</td>\n",
              "      <td>0.004171</td>\n",
              "      <td>0.002218</td>\n",
              "      <td>0.002616</td>\n",
              "      <td>0.002600</td>\n",
              "      <td>0.000521</td>\n",
              "      <td>0.001551</td>\n",
              "      <td>0.000978</td>\n",
              "      <td>0.006658</td>\n",
              "      <td>0.001158</td>\n",
              "      <td>0.003977</td>\n",
              "      <td>0.001122</td>\n",
              "      <td>0.006559</td>\n",
              "      <td>0.000439</td>\n",
              "      <td>0.003314</td>\n",
              "      <td>0.003215</td>\n",
              "      <td>0.002721</td>\n",
              "      <td>0.000468</td>\n",
              "      <td>0.000713</td>\n",
              "      <td>0.001575</td>\n",
              "      <td>0.002074</td>\n",
              "      <td>0.000142</td>\n",
              "      <td>0.000367</td>\n",
              "      <td>0.001710</td>\n",
              "      <td>0.000870</td>\n",
              "      <td>0.001156</td>\n",
              "      <td>0.000973</td>\n",
              "      <td>0.000956</td>\n",
              "      <td>0.004857</td>\n",
              "      <td>0.000910</td>\n",
              "      <td>0.001190</td>\n",
              "      <td>0.001404</td>\n",
              "    </tr>\n",
              "    <tr>\n",
              "      <th>3998</th>\n",
              "      <td>0.812055</td>\n",
              "      <td>12.824093</td>\n",
              "      <td>1.134658</td>\n",
              "      <td>502.954141</td>\n",
              "      <td>0.114598</td>\n",
              "      <td>0.167851</td>\n",
              "      <td>0.104494</td>\n",
              "      <td>0.080492</td>\n",
              "      <td>0.034892</td>\n",
              "      <td>0.002358</td>\n",
              "      <td>0.115775</td>\n",
              "      <td>0.024311</td>\n",
              "      <td>0.023711</td>\n",
              "      <td>0.076306</td>\n",
              "      <td>0.064464</td>\n",
              "      <td>0.013033</td>\n",
              "      <td>0.020969</td>\n",
              "      <td>0.230465</td>\n",
              "      <td>0.089394</td>\n",
              "      <td>0.066521</td>\n",
              "      <td>0.015321</td>\n",
              "      <td>0.020850</td>\n",
              "      <td>0.033793</td>\n",
              "      <td>0.015640</td>\n",
              "      <td>0.087301</td>\n",
              "      <td>0.010646</td>\n",
              "      <td>0.049011</td>\n",
              "      <td>0.021690</td>\n",
              "      <td>0.002733</td>\n",
              "      <td>0.011752</td>\n",
              "      <td>0.054213</td>\n",
              "      <td>0.046368</td>\n",
              "      <td>0.019314</td>\n",
              "      <td>0.030114</td>\n",
              "      <td>0.021265</td>\n",
              "      <td>0.050490</td>\n",
              "      <td>0.092015</td>\n",
              "      <td>0.018342</td>\n",
              "      <td>0.062860</td>\n",
              "      <td>0.003347</td>\n",
              "      <td>...</td>\n",
              "      <td>0.000293</td>\n",
              "      <td>0.000339</td>\n",
              "      <td>0.003623</td>\n",
              "      <td>0.001240</td>\n",
              "      <td>0.001322</td>\n",
              "      <td>0.001281</td>\n",
              "      <td>0.001491</td>\n",
              "      <td>0.006370</td>\n",
              "      <td>0.002010</td>\n",
              "      <td>0.002974</td>\n",
              "      <td>0.010266</td>\n",
              "      <td>0.004452</td>\n",
              "      <td>0.001645</td>\n",
              "      <td>0.000446</td>\n",
              "      <td>0.009338</td>\n",
              "      <td>0.000678</td>\n",
              "      <td>0.001020</td>\n",
              "      <td>0.001397</td>\n",
              "      <td>0.002471</td>\n",
              "      <td>0.002625</td>\n",
              "      <td>0.002538</td>\n",
              "      <td>0.001491</td>\n",
              "      <td>0.007743</td>\n",
              "      <td>0.001606</td>\n",
              "      <td>0.004643</td>\n",
              "      <td>0.002305</td>\n",
              "      <td>0.000909</td>\n",
              "      <td>0.005633</td>\n",
              "      <td>0.001023</td>\n",
              "      <td>0.000180</td>\n",
              "      <td>0.001602</td>\n",
              "      <td>0.002129</td>\n",
              "      <td>0.000404</td>\n",
              "      <td>0.006334</td>\n",
              "      <td>0.002544</td>\n",
              "      <td>0.002278</td>\n",
              "      <td>0.002454</td>\n",
              "      <td>0.000962</td>\n",
              "      <td>0.003198</td>\n",
              "      <td>0.001340</td>\n",
              "    </tr>\n",
              "    <tr>\n",
              "      <th>3999</th>\n",
              "      <td>0.811467</td>\n",
              "      <td>12.672282</td>\n",
              "      <td>1.079341</td>\n",
              "      <td>444.473235</td>\n",
              "      <td>0.080460</td>\n",
              "      <td>0.122071</td>\n",
              "      <td>0.089653</td>\n",
              "      <td>0.072292</td>\n",
              "      <td>0.047274</td>\n",
              "      <td>0.052626</td>\n",
              "      <td>0.185110</td>\n",
              "      <td>0.025018</td>\n",
              "      <td>0.076378</td>\n",
              "      <td>0.017400</td>\n",
              "      <td>0.150284</td>\n",
              "      <td>0.039252</td>\n",
              "      <td>0.026867</td>\n",
              "      <td>0.034298</td>\n",
              "      <td>0.146123</td>\n",
              "      <td>0.059103</td>\n",
              "      <td>0.020092</td>\n",
              "      <td>0.021552</td>\n",
              "      <td>0.027293</td>\n",
              "      <td>0.014480</td>\n",
              "      <td>0.011829</td>\n",
              "      <td>0.074335</td>\n",
              "      <td>0.054346</td>\n",
              "      <td>0.008093</td>\n",
              "      <td>0.007597</td>\n",
              "      <td>0.020958</td>\n",
              "      <td>0.033247</td>\n",
              "      <td>0.045875</td>\n",
              "      <td>0.037079</td>\n",
              "      <td>0.028810</td>\n",
              "      <td>0.036675</td>\n",
              "      <td>0.021432</td>\n",
              "      <td>0.232859</td>\n",
              "      <td>0.036589</td>\n",
              "      <td>0.020545</td>\n",
              "      <td>0.001477</td>\n",
              "      <td>...</td>\n",
              "      <td>0.007723</td>\n",
              "      <td>0.001816</td>\n",
              "      <td>0.000174</td>\n",
              "      <td>0.001249</td>\n",
              "      <td>0.002672</td>\n",
              "      <td>0.004008</td>\n",
              "      <td>0.001727</td>\n",
              "      <td>0.001304</td>\n",
              "      <td>0.002071</td>\n",
              "      <td>0.003253</td>\n",
              "      <td>0.000138</td>\n",
              "      <td>0.000921</td>\n",
              "      <td>0.003214</td>\n",
              "      <td>0.005902</td>\n",
              "      <td>0.000958</td>\n",
              "      <td>0.005921</td>\n",
              "      <td>0.002685</td>\n",
              "      <td>0.001842</td>\n",
              "      <td>0.001825</td>\n",
              "      <td>0.000452</td>\n",
              "      <td>0.002269</td>\n",
              "      <td>0.000340</td>\n",
              "      <td>0.000943</td>\n",
              "      <td>0.003467</td>\n",
              "      <td>0.000909</td>\n",
              "      <td>0.003406</td>\n",
              "      <td>0.000969</td>\n",
              "      <td>0.000712</td>\n",
              "      <td>0.002941</td>\n",
              "      <td>0.008299</td>\n",
              "      <td>0.003353</td>\n",
              "      <td>0.002052</td>\n",
              "      <td>0.002490</td>\n",
              "      <td>0.000416</td>\n",
              "      <td>0.001432</td>\n",
              "      <td>0.000199</td>\n",
              "      <td>0.001887</td>\n",
              "      <td>0.006869</td>\n",
              "      <td>0.000651</td>\n",
              "      <td>0.002642</td>\n",
              "    </tr>\n",
              "  </tbody>\n",
              "</table>\n",
              "<p>4000 rows × 10090 columns</p>\n",
              "</div>"
            ],
            "text/plain": [
              "             r      alpha         s  ...  mu__5040  mu__5041  mu__5042\n",
              "0     0.822950  12.649971  1.595685  ...  0.001295  0.003361  0.003166\n",
              "1     0.815700  12.806992  1.537821  ...  0.003792  0.003816  0.002581\n",
              "2     0.744634  11.314048  1.538236  ...  0.002820  0.001923  0.002588\n",
              "3     0.794581  12.447531  1.593789  ...  0.001708  0.000701  0.002171\n",
              "4     0.792365  12.370614  1.564278  ...  0.007115  0.005123  0.002689\n",
              "...        ...        ...       ...  ...       ...       ...       ...\n",
              "3995  0.815740  12.541092  1.078460  ...  0.001417  0.005633  0.005410\n",
              "3996  0.784416  12.350009  1.076493  ...  0.000141  0.000631  0.000543\n",
              "3997  0.734939  11.329081  1.064926  ...  0.000910  0.001190  0.001404\n",
              "3998  0.812055  12.824093  1.134658  ...  0.000962  0.003198  0.001340\n",
              "3999  0.811467  12.672282  1.079341  ...  0.006869  0.000651  0.002642\n",
              "\n",
              "[4000 rows x 10090 columns]"
            ]
          },
          "metadata": {
            "tags": []
          },
          "execution_count": 63
        }
      ]
    },
    {
      "cell_type": "code",
      "metadata": {
        "id": "FbUJe7XpVKzA"
      },
      "source": [
        "r=np.array(tr['r'])\r\n",
        "alpha=np.array(tr['alpha'])\r\n",
        "s=np.array(tr['s'])\r\n",
        "beta=np.array(tr['beta'])"
      ],
      "execution_count": 64,
      "outputs": []
    },
    {
      "cell_type": "code",
      "metadata": {
        "colab": {
          "base_uri": "https://localhost:8080/",
          "height": 625
        },
        "id": "-SaidhchHrkl",
        "outputId": "f17e740c-c659-4acc-ba7e-e38ea1073e4e"
      },
      "source": [
        "_ = pm.traceplot(r)\r\n",
        "_ = pm.traceplot(alpha)\r\n",
        "_ = pm.traceplot(s)\r\n",
        "_ = pm.traceplot(beta)"
      ],
      "execution_count": 65,
      "outputs": [
        {
          "output_type": "display_data",
          "data": {
            "image/png": "[encoded data removed]",
            "text/plain": [
              "<Figure size 864x144 with 2 Axes>"
            ]
          },
          "metadata": {
            "tags": [],
            "needs_background": "light"
          }
        },
        {
          "output_type": "display_data",
          "data": {
            "image/png": "[encoded data removed]",
            "text/plain": [
              "<Figure size 864x144 with 2 Axes>"
            ]
          },
          "metadata": {
            "tags": [],
            "needs_background": "light"
          }
        },
        {
          "output_type": "display_data",
          "data": {
            "image/png": "[encoded data removed]",
            "text/plain": [
              "<Figure size 864x144 with 2 Axes>"
            ]
          },
          "metadata": {
            "tags": [],
            "needs_background": "light"
          }
        },
        {
          "output_type": "display_data",
          "data": {
            "image/png": "[encoded data removed]",
            "text/plain": [
              "<Figure size 864x144 with 2 Axes>"
            ]
          },
          "metadata": {
            "tags": [],
            "needs_background": "light"
          }
        }
      ]
    },
    {
      "cell_type": "code",
      "metadata": {
        "colab": {
          "base_uri": "https://localhost:8080/",
          "height": 313
        },
        "id": "BWQeSwnMPXNZ",
        "outputId": "21b43871-6c75-4a38-f64f-c689e4bea4fb"
      },
      "source": [
        "_ = pm.plot_posterior(r)"
      ],
      "execution_count": 66,
      "outputs": [
        {
          "output_type": "display_data",
          "data": {
            "image/png": "[encoded data removed]",
            "text/plain": [
              "<Figure size 432x288 with 1 Axes>"
            ]
          },
          "metadata": {
            "tags": [],
            "needs_background": "light"
          }
        }
      ]
    },
    {
      "cell_type": "code",
      "metadata": {
        "colab": {
          "base_uri": "https://localhost:8080/",
          "height": 313
        },
        "id": "l6L8kDt-PigK",
        "outputId": "dbc2d21a-bfe8-4a94-d74e-dc2fd9d5f5ad"
      },
      "source": [
        "_ = pm.plot_posterior(alpha)"
      ],
      "execution_count": 67,
      "outputs": [
        {
          "output_type": "display_data",
          "data": {
            "image/png": "[encoded data removed]",
            "text/plain": [
              "<Figure size 432x288 with 1 Axes>"
            ]
          },
          "metadata": {
            "tags": [],
            "needs_background": "light"
          }
        }
      ]
    },
    {
      "cell_type": "code",
      "metadata": {
        "colab": {
          "base_uri": "https://localhost:8080/",
          "height": 313
        },
        "id": "DUO_zzElWVo_",
        "outputId": "7810a0e0-2ee6-46fe-ce2b-5c77cd2fd08e"
      },
      "source": [
        "_ = pm.plot_posterior(s)"
      ],
      "execution_count": 68,
      "outputs": [
        {
          "output_type": "display_data",
          "data": {
            "image/png": "[encoded data removed]",
            "text/plain": [
              "<Figure size 432x288 with 1 Axes>"
            ]
          },
          "metadata": {
            "tags": [],
            "needs_background": "light"
          }
        }
      ]
    },
    {
      "cell_type": "code",
      "metadata": {
        "colab": {
          "base_uri": "https://localhost:8080/",
          "height": 313
        },
        "id": "pTYwTutVWZs1",
        "outputId": "5dd2a82b-fb27-4d04-dfa2-1684dca3419e"
      },
      "source": [
        "_ = pm.plot_posterior(beta)"
      ],
      "execution_count": 69,
      "outputs": [
        {
          "output_type": "display_data",
          "data": {
            "image/png": "[encoded data removed]",
            "text/plain": [
              "<Figure size 432x288 with 1 Axes>"
            ]
          },
          "metadata": {
            "tags": [],
            "needs_background": "light"
          }
        }
      ]
    },
    {
      "cell_type": "code",
      "metadata": {
        "id": "Spgq0ehsWcMA"
      },
      "source": [
        "def prob_alive_at_T(lambda_, mu, t_x, T):\r\n",
        "    \"\"\"\r\n",
        "    Probability a customer's time of death \\tau occurs after T.\r\n",
        "    \r\n",
        "    Pr(\\tau > T \\> | \\> \\lambda, \\mu, x, t_x,T) = \\dfrac{1}{1+\\dfrac{\\mu}{\\mu+\\lambda}\r\n",
        "    \\big\\{e^{(\\lambda+\\mu)(T-t_x)}-1\\big\\}}\r\n",
        "    \r\n",
        "    See expression (7) in technical appendix of Abe.\r\n",
        "    \r\n",
        "    :param lambda_: lambda parameter at the customer level :\r\n",
        "    :type lambda_: scalar\r\n",
        "    :param mu: mu parameter at the customer level\r\n",
        "    :type mu_: scalar\r\n",
        "    :param t_x: recency of transactions\r\n",
        "    :type t_x: float\r\n",
        "    :param T: duration of the calibration/training period\r\n",
        "    :type T: float\r\n",
        "    \r\n",
        "    :return: probability of being alive at time T.\r\n",
        "    \"\"\"\r\n",
        "\r\n",
        "    den = 1 + (mu / (lambda_ + mu)) * (np.exp((lambda_ + mu) * (T - t_x)) - 1)\r\n",
        "    return 1 / den"
      ],
      "execution_count": 70,
      "outputs": []
    },
    {
      "cell_type": "code",
      "metadata": {
        "id": "XO-uNlPGXiq4"
      },
      "source": [
        "def likelihood(lambda_, mu, x, t, T):\r\n",
        "    \"\"\"Pareto/NBD likelihood function.\r\n",
        "\r\n",
        "    :param lambda_: lambda parameter at the customer-level.\r\n",
        "    :param mu: mu parameter at the customer level\r\n",
        "    :param x: number of repeat transactions\r\n",
        "    :param t: recency\r\n",
        "    :param T: length of the calibration/training period.\r\n",
        "\r\n",
        "    :return: likelihood value.\r\n",
        "    \"\"\"\r\n",
        "\r\n",
        "    p1 = x * np.log(lambda_) + np.log(mu) - np.log(mu + lambda_) - t * (mu + lambda_)\r\n",
        "    p2 = (x + 1) * np.log(lambda_) - np.log(mu + lambda_) - T * (mu + lambda_)\r\n",
        "    return np.exp(p1) + np.exp(p2)\r\n",
        "def predict(t, lambda_, mu, x, tx, T):\r\n",
        "    \"\"\"Conditional expected purchases at end of time (T, T+t).\r\n",
        "\r\n",
        "    Used to assess holdout period performance and to make predictions\r\n",
        "    for future time period t. Conditional on purchase history (x, t_x, T).\r\n",
        "\r\n",
        "    E[X(T,T+t) \\> | \\> \\lambda, \\mu, x, t_x, T] = \\dfrac{1}{L(\\lambda, \\mu)|(x, t_x, T)}\r\n",
        "    \\times \\dfrac{\\lambda^{x+1}}{\\mu}e^{-(\\lambda+\\mu)T}(1-e^{-\\mu t})\r\n",
        "\r\n",
        "    http://brucehardie.com/notes/034/corr_Pareto-NBD.pdf\r\n",
        "\r\n",
        "    :param t: time period\r\n",
        "    :type t: scalar\r\n",
        "\r\n",
        "    :param lambda_: lambda parameter at the customer level :\r\n",
        "    :type lambda_: scalar\r\n",
        "\r\n",
        "    :param mu: mu parameter at the customer level\r\n",
        "    :type mu_: scalar\r\n",
        "\r\n",
        "    :param x: number of repeat transactions\r\n",
        "    :type x: integer\r\n",
        "\r\n",
        "    :param tx: recency of transactions\r\n",
        "    :type tx: float\r\n",
        "\r\n",
        "    :param T: duration of the calibration/training period\r\n",
        "    :type T: float\r\n",
        "\r\n",
        "    :return expected number of purchases (scalar)\r\n",
        "    \"\"\"\r\n",
        "    like = likelihood(lambda_, mu, x, tx, T)\r\n",
        "    p2 = lambda_ ** (x + 1) / mu * np.exp(-(lambda_ + mu) * T) * (1 - np.exp(-mu * t))\r\n",
        "\r\n",
        "    return 1 / like * p2\r\n",
        "\r\n",
        "#Model Checking"
      ],
      "execution_count": 71,
      "outputs": []
    },
    {
      "cell_type": "code",
      "metadata": {
        "colab": {
          "base_uri": "https://localhost:8080/"
        },
        "id": "2FV8bcQCYDxA",
        "outputId": "8c230e5b-ecb0-4609-9a37-428ddce18eeb"
      },
      "source": [
        "rfm = calibration_and_holdout_data(\r\n",
        "    df,\r\n",
        "    'CustomerID',\r\n",
        "    'InvoiceDate',\r\n",
        "    calibration_period_end='2011-06-30',\r\n",
        "    observation_period_end='2011-12-09',\r\n",
        "    freq='W'\r\n",
        ")\r\n",
        "\r\n",
        "rfm.shape"
      ],
      "execution_count": 72,
      "outputs": [
        {
          "output_type": "execute_result",
          "data": {
            "text/plain": [
              "(5043, 5)"
            ]
          },
          "metadata": {
            "tags": []
          },
          "execution_count": 72
        }
      ]
    },
    {
      "cell_type": "code",
      "metadata": {
        "colab": {
          "base_uri": "https://localhost:8080/"
        },
        "id": "U7ZwRrnwA93c",
        "outputId": "1b122268-1bf6-41a7-f535-2edd21f82da6"
      },
      "source": [
        "rfm['frequency_cal'].describe()"
      ],
      "execution_count": 73,
      "outputs": [
        {
          "output_type": "execute_result",
          "data": {
            "text/plain": [
              "count    5043.000000\n",
              "mean        3.569106\n",
              "std         6.251706\n",
              "min         0.000000\n",
              "25%         0.000000\n",
              "50%         1.000000\n",
              "75%         4.000000\n",
              "max        78.000000\n",
              "Name: frequency_cal, dtype: float64"
            ]
          },
          "metadata": {
            "tags": []
          },
          "execution_count": 73
        }
      ]
    },
    {
      "cell_type": "code",
      "metadata": {
        "colab": {
          "base_uri": "https://localhost:8080/"
        },
        "id": "aoS--SHPBtfY",
        "outputId": "f000ce58-7b5f-43d5-dbbe-46ef444d9b89"
      },
      "source": [
        "rfm['frequency_holdout'].describe()"
      ],
      "execution_count": 74,
      "outputs": [
        {
          "output_type": "execute_result",
          "data": {
            "text/plain": [
              "count    5043.000000\n",
              "mean        1.340670\n",
              "std         2.269729\n",
              "min         0.000000\n",
              "25%         0.000000\n",
              "50%         1.000000\n",
              "75%         2.000000\n",
              "max        24.000000\n",
              "Name: frequency_holdout, dtype: float64"
            ]
          },
          "metadata": {
            "tags": []
          },
          "execution_count": 74
        }
      ]
    },
    {
      "cell_type": "code",
      "metadata": {
        "colab": {
          "base_uri": "https://localhost:8080/"
        },
        "id": "7NriidOyYb71",
        "outputId": "9c1dad42-0c40-434e-be3b-fc3f7a84ea26"
      },
      "source": [
        "\r\n",
        "customer_index = 120\r\n",
        "# show purchasing behavior\r\n",
        "rfm.iloc[customer_index]"
      ],
      "execution_count": 75,
      "outputs": [
        {
          "output_type": "execute_result",
          "data": {
            "text/plain": [
              "frequency_cal         0.0\n",
              "recency_cal           0.0\n",
              "T_cal                25.0\n",
              "frequency_holdout     0.0\n",
              "duration_holdout     23.0\n",
              "Name: 12489.0, dtype: float64"
            ]
          },
          "metadata": {
            "tags": []
          },
          "execution_count": 75
        }
      ]
    },
    {
      "cell_type": "code",
      "metadata": {
        "colab": {
          "base_uri": "https://localhost:8080/"
        },
        "id": "uy_0J3VmY-So",
        "outputId": "fa6d43eb-f73c-4683-d4cc-ff2b2bb93705"
      },
      "source": [
        "lambda_post = trace['lambda']\r\n",
        "mu_post = trace['mu']\r\n",
        "\r\n",
        "# Select distributions of lambda and mu for a customer\r\n",
        "lambda_individual = lambda_post[:,customer_index]\r\n",
        "mu_individual = mu_post[:,customer_index]\r\n",
        "\r\n",
        "# predict purchases for the user at t = 39\r\n",
        "t = 23\r\n",
        "predict(t, lambda_individual, mu_individual, x[customer_index], t_x[customer_index], T[customer_index]).mean()"
      ],
      "execution_count": 76,
      "outputs": [
        {
          "output_type": "execute_result",
          "data": {
            "text/plain": [
              "0.44176078450066597"
            ]
          },
          "metadata": {
            "tags": []
          },
          "execution_count": 76
        }
      ]
    },
    {
      "cell_type": "code",
      "metadata": {
        "id": "3H1eyV7iZGBT"
      },
      "source": [
        "t = 23\r\n",
        "# predictions are size of customer base x number of draws\r\n",
        "holdout_predictions = np.empty([N, n_draws])\r\n",
        "\r\n",
        "for i in np.arange(N):\r\n",
        "    holdout_predictions[i] = predict(\r\n",
        "        t, \r\n",
        "        lambda_post[2000:,i], \r\n",
        "        mu_post[2000:,i], \r\n",
        "        x[i], \r\n",
        "        t_x[i], \r\n",
        "       T[i]\r\n",
        "    )\r\n",
        "\r\n",
        "# predictions are posterior mean\r\n",
        "rfm['frequency_predicted'] = holdout_predictions.mean(axis=1)"
      ],
      "execution_count": 77,
      "outputs": []
    },
    {
      "cell_type": "code",
      "metadata": {
        "colab": {
          "base_uri": "https://localhost:8080/"
        },
        "id": "zFxH_--QcsnA",
        "outputId": "a5e089bb-1d3f-48f9-b384-248d17da1ba7"
      },
      "source": [
        "rfm.shape"
      ],
      "execution_count": 78,
      "outputs": [
        {
          "output_type": "execute_result",
          "data": {
            "text/plain": [
              "(5043, 6)"
            ]
          },
          "metadata": {
            "tags": []
          },
          "execution_count": 78
        }
      ]
    },
    {
      "cell_type": "code",
      "metadata": {
        "colab": {
          "base_uri": "https://localhost:8080/",
          "height": 513
        },
        "id": "y6S4VcTEZaFk",
        "outputId": "e46b3452-8220-4837-e716-f98745ad8ecd"
      },
      "source": [
        "xlim=(1, 20)\r\n",
        "mean_frequencies = rfm.groupby('frequency_cal')[['frequency_holdout',\r\n",
        "                                     'frequency_predicted']].mean()\r\n",
        "mean_frequencies.rename(columns={'frequency_holdout': 'Observed',\r\n",
        "                                 'frequency_predicted': 'Model'},\r\n",
        "                        inplace=True)\r\n",
        "mean_frequencies.plot(kind='line',\r\n",
        "                      title='Conditional Expected Purchases in Holdout Period', figsize=(16, 8))\r\n",
        "\r\n",
        "# Generate a dummy model with holdout freq = t_holdout/t_calib\r\n",
        "t_calib = np.mean(rfm['T_cal'])\r\n",
        "t_holdout = t\r\n",
        "x_heuristics = np.linspace(xlim[0],xlim[1],100)\r\n",
        "heuristics = t_holdout/t_calib * x_heuristics\r\n",
        "\r\n",
        "plt.plot(x_heuristics, heuristics, linestyle='--', color='black', label='Simple Heuristics')\r\n",
        "plt.legend(loc=0)\r\n",
        "plt.xlim(xlim)\r\n",
        "plt.ylabel('Mean Number of Transactions in Holdout Period')\r\n",
        "plt.xlabel('Number of Transactions in Calibration Period')\r\n",
        "plt.grid(False)\r\n",
        "plt.show()"
      ],
      "execution_count": 79,
      "outputs": [
        {
          "output_type": "display_data",
          "data": {
            "image/png": "[encoded data removed]",
            "text/plain": [
              "<Figure size 1152x576 with 1 Axes>"
            ]
          },
          "metadata": {
            "tags": [],
            "needs_background": "light"
          }
        }
      ]
    },
    {
      "cell_type": "code",
      "metadata": {
        "colab": {
          "base_uri": "https://localhost:8080/"
        },
        "id": "hyrqgLz8a5dq",
        "outputId": "1fd3067c-1453-4c74-c234-2245a0c11a37"
      },
      "source": [
        "from sklearn.metrics import mean_squared_error\r\n",
        "print(\"RMSE: %s\" % np.sqrt(mean_squared_error(rfm['frequency_holdout'], rfm['frequency_predicted'])))"
      ],
      "execution_count": 80,
      "outputs": [
        {
          "output_type": "stream",
          "text": [
            "RMSE: 1.4012146008030926\n"
          ],
          "name": "stdout"
        }
      ]
    },
    {
      "cell_type": "code",
      "metadata": {
        "id": "-V91MWlBp5fs"
      },
      "source": [
        "t = 23\r\n",
        "# predictions are size of customer base x number of draws\r\n",
        "prob_predictions = np.empty([N, n_draws])\r\n",
        "\r\n",
        "for i in np.arange(N):\r\n",
        "    prob_predictions[i] = prob_alive_at_T( \r\n",
        "        lambda_post[2000:,i], \r\n",
        "        mu_post[2000:,i], \r\n",
        "        t_x[i], \r\n",
        "       T[i]\r\n",
        "    )\r\n",
        "\r\n",
        "# predictions are posterior mean\r\n",
        "rfm['alive_predicted'] = prob_predictions.mean(axis=1)\r\n"
      ],
      "execution_count": 81,
      "outputs": []
    },
    {
      "cell_type": "code",
      "metadata": {
        "id": "eK9rxA3b7NC7"
      },
      "source": [
        "col=['frequency_holdout']\r\n",
        "rfm['alive_act'] = rfm.apply(lambda x: 1 if(x[col[0]] >0) else 0 , axis = 1)\r\n",
        "col=['frequency_predicted']\r\n",
        "rfm['alive_pred'] = rfm.apply(lambda x: 1 if(x[col[0]] >=1 ) else 0 , axis = 1)"
      ],
      "execution_count": 82,
      "outputs": []
    },
    {
      "cell_type": "code",
      "metadata": {
        "colab": {
          "base_uri": "https://localhost:8080/"
        },
        "id": "Hs5LRzlU82C1",
        "outputId": "700d6b95-5ac5-46c6-95d1-9e4eb5f4e29d"
      },
      "source": [
        "from sklearn.metrics import confusion_matrix\r\n",
        "confusion_matrix(rfm['alive_act'], rfm['alive_pred'])"
      ],
      "execution_count": 83,
      "outputs": [
        {
          "output_type": "execute_result",
          "data": {
            "text/plain": [
              "array([[2073,  441],\n",
              "       [ 928, 1601]])"
            ]
          },
          "metadata": {
            "tags": []
          },
          "execution_count": 83
        }
      ]
    },
    {
      "cell_type": "code",
      "metadata": {
        "colab": {
          "base_uri": "https://localhost:8080/"
        },
        "id": "rhmRf6_p89Jz",
        "outputId": "39aa8c56-3cde-4d6a-efdf-7c2deb74e7bd"
      },
      "source": [
        "from sklearn.metrics import classification_report\r\n",
        "print(classification_report(rfm['alive_act'], rfm['alive_pred']))"
      ],
      "execution_count": 84,
      "outputs": [
        {
          "output_type": "stream",
          "text": [
            "              precision    recall  f1-score   support\n",
            "\n",
            "           0       0.69      0.82      0.75      2514\n",
            "           1       0.78      0.63      0.70      2529\n",
            "\n",
            "    accuracy                           0.73      5043\n",
            "   macro avg       0.74      0.73      0.73      5043\n",
            "weighted avg       0.74      0.73      0.73      5043\n",
            "\n"
          ],
          "name": "stdout"
        }
      ]
    },
    {
      "cell_type": "code",
      "metadata": {
        "id": "OqM915DO9SgP"
      },
      "source": [
        ""
      ],
      "execution_count": 84,
      "outputs": []
    }
  ]
}